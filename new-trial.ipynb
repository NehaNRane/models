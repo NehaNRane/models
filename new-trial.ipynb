{
 "cells": [
  {
   "cell_type": "code",
   "execution_count": null,
   "id": "b4f9d621",
   "metadata": {},
   "outputs": [],
   "source": [
    "pip install fosforio"
   ]
  },
  {
   "cell_type": "code",
   "execution_count": null,
   "id": "18310403",
   "metadata": {},
   "outputs": [],
   "source": [
    "from fosforio import snowflake\n",
    "snowflake.get_connection(connection_name=\"trial-conn\")"
   ]
  },
  {
   "cell_type": "code",
   "execution_count": null,
   "id": "507dbea8",
   "metadata": {},
   "outputs": [],
   "source": [
    "df = snowflake.get_dataframe(\"PAYMENTS\")"
   ]
  },
  {
   "cell_type": "code",
   "execution_count": null,
   "id": "e0819719",
   "metadata": {},
   "outputs": [],
   "source": [
    "df.head()"
   ]
  },
  {
   "cell_type": "code",
   "execution_count": null,
   "id": "5ec154d1",
   "metadata": {},
   "outputs": [],
   "source": [
    "!pip install snowflake-connector-python[pandas]==3.6.0"
   ]
  },
  {
   "cell_type": "code",
   "execution_count": 2,
   "id": "869f3e43",
   "metadata": {},
   "outputs": [
    {
     "name": "stdout",
     "output_type": "stream",
     "text": [
      "   CUSTOMER_ID PRODUCT_ID PRODUCT_NAME CATEGORY  COST_PRICE  LIST_PRICE  \\\n",
      "0          128      P0046    Product46     Cat3      13.098       27.27   \n",
      "\n",
      "   TRANSACTION_ID  QUANTITY  SALE_PRICE   SALE_DATE  ... TRANSACTION_VALUE  \\\n",
      "0               1       1.0        18.0  2022-03-19  ...              18.0   \n",
      "\n",
      "  TOTAL_PROFIT_PER_DAY AVERAGE_TRANSACTION_VALUE_FOR_EACH_PRODUCT  \\\n",
      "0              198.576                                  51.009804   \n",
      "\n",
      "   TOTAL_SALES_PER_PRODUCT  PROFIT_MARG_PER_PROD  TOTAL_SALES_PER_DAY  \\\n",
      "0                   5203.0               771.004                690.0   \n",
      "\n",
      "   TOTAL_REVENUE  TOTAL_NUMBER_OF_TRANSACTIONS  AVERAGE_BASKET_SIZE  \\\n",
      "0       247705.0                      12532521             2.090909   \n",
      "\n",
      "   AVERAGE_TRANSACTION_VALUE  \n",
      "0                   0.019765  \n",
      "\n",
      "[1 rows x 33 columns]\n"
     ]
    }
   ],
   "source": [
    "import snowflake.connector as sw\n",
    "\n",
    "connection_details = {'params': {'READER': {'schema': 'FDC_SCHEMA', 'cloudPlatform': 'azure', 'role': '\"NILAYOSTWAL\"', 'clientId': None, 'tokenUrl': None, 'scopeUrl': None, 'type': 'RDBMS', 'wareHouse': 'FOSFOR_QA_WH', 'accountId': 'wm40531', 'privateKey': None, 'password': 'Password@2024', 'database': 'FDC_RETAIL_DATA', 'tables': 'LOAN', 'sub_type': 'SNOWFLAKE', 'subType': 'SNOWFLAKE', 'clientSecret': None, 'authenticationType': 'dbPassword', 'rowCount': 10, 'region': 'east-us-2', 'user': 'NILAYOSTWAL', 'applicationName': 'FOSFOR', 'passPhrase': None}}, 'url': 'http://connectors-backend-service/connectors/v1/connectors/metadata', 'access': True, 'errorMsg': None, 'values': {}}\n",
    "\n",
    "# Connect to Snowflake\n",
    "con = sw.connect(\n",
    "    # user='NILAYOSTWAL',\n",
    "    # password='Password@2024',\n",
    "    # account='wm40531',\n",
    "    # database='FDC_RETAIL_DATA',\n",
    "    # role='NILAYOSTWAL',\n",
    "    # cloudPlatform='azure',\n",
    "    # schema='FDC_SCHEMA',\n",
    "    # wareHouse='FOSFOR_QA_WH',\n",
    "    # region='east-us-2.azure'\n",
    "    user=connection_details[\"params\"][\"READER\"][\"user\"],\n",
    "    password=connection_details[\"params\"][\"READER\"][\"password\"],\n",
    "    account=connection_details[\"params\"][\"READER\"][\"accountId\"],\n",
    "    database=connection_details[\"params\"][\"READER\"][\"database\"],\n",
    "    role=connection_details[\"params\"][\"READER\"][\"role\"],\n",
    "    cloudPlatform=connection_details[\"params\"][\"READER\"][\"cloudPlatform\"],\n",
    "    schema=connection_details[\"params\"][\"READER\"][\"schema\"],\n",
    "    wareHouse=connection_details[\"params\"][\"READER\"][\"wareHouse\"],\n",
    "    region=connection_details[\"params\"][\"READER\"][\"region\"] if connection_details[\"params\"][\"READER\"][\"cloudPlatform\"] is None \\\n",
    "            else connection_details[\"params\"][\"READER\"][\"region\"]+\".\"+connection_details[\"params\"][\"READER\"][\"cloudPlatform\"]\n",
    ")\n",
    "# Create cursor\n",
    "cur = con.cursor()\n",
    "query = \"SELECT * FROM RETAIL_FINAL_TABLE LIMIT 1\"\n",
    "\n",
    "cur.execute(f\"use warehouse FOSFOR_QA_WH;\")  # Setting up warehouse, it is needed in new snowflake gcp connections.\n",
    "\n",
    "cur.execute(query)\n",
    "\n",
    "data_frame = cur.fetch_pandas_all()\n",
    "print(data_frame)\n",
    "\n",
    "cur.close()\n",
    "con.close()"
   ]
  },
  {
   "cell_type": "code",
   "execution_count": null,
   "id": "aaa66e29",
   "metadata": {},
   "outputs": [],
   "source": []
  }
 ],
 "metadata": {
  "kernelspec": {
   "display_name": "Python 3",
   "language": "python",
   "name": "python3"
  },
  "language_info": {
   "codemirror_mode": {
    "name": "ipython",
    "version": 3
   },
   "file_extension": ".py",
   "mimetype": "text/x-python",
   "name": "python",
   "nbconvert_exporter": "python",
   "pygments_lexer": "ipython3",
   "version": "3.8.18"
  }
 },
 "nbformat": 4,
 "nbformat_minor": 5
}
