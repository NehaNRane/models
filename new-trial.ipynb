{
 "cells": [
  {
   "cell_type": "code",
   "execution_count": null,
   "id": "b4f9d621",
   "metadata": {},
   "outputs": [],
   "source": [
    "pip install fosforio"
   ]
  },
  {
   "cell_type": "code",
   "execution_count": null,
   "id": "18310403",
   "metadata": {},
   "outputs": [],
   "source": [
    "from fosforio import snowflake\n",
    "snowflake.get_connection(connection_name=\"trial-conn\")"
   ]
  },
  {
   "cell_type": "code",
   "execution_count": null,
   "id": "507dbea8",
   "metadata": {},
   "outputs": [],
   "source": [
    "df = snowflake.get_dataframe(\"PAYMENTS\")"
   ]
  },
  {
   "cell_type": "code",
   "execution_count": null,
   "id": "e0819719",
   "metadata": {},
   "outputs": [],
   "source": [
    "df.head()"
   ]
  },
  {
   "cell_type": "code",
   "execution_count": null,
   "id": "e06524fe",
   "metadata": {},
   "outputs": [],
   "source": [
    "!pip install snowflake-connector-python[pandas]==3.6.0"
   ]
  },
  {
   "cell_type": "code",
   "execution_count": 1,
   "id": "869f3e43",
   "metadata": {},
   "outputs": [
    {
     "name": "stdout",
     "output_type": "stream",
     "text": [
      "(128, 'P0046', 'Product46', 'Cat3', 13.098, 27.27, 1, 1.0, 18.0, datetime.date(2022, 3, 19), 'Customer128', 'High-Value', datetime.date(2022, 11, 17), 4.901999999999999, Decimal('11.000000'), 3, 11, 1690, 1193.0, 300.0, 1503, 'HIGH', 4.901999999999999, 18.0, 198.57600000000002, 51.009803921568626, 5203.0, 771.0039999999999, 690.0, 247705.0, 12532521, 2.090909090909091, 0.019764977852420915)\n"
     ]
    }
   ],
   "source": [
    "import snowflake.connector as sw\n",
    "\n",
    "connection_details = {'params': {'READER': {'schema': 'FDC_SCHEMA', 'cloudPlatform': 'azure', 'role': '\"NILAYOSTWAL\"', 'clientId': None, 'tokenUrl': None, 'scopeUrl': None, 'type': 'RDBMS', 'wareHouse': 'FOSFOR_QA_WH', 'accountId': 'wm40531', 'privateKey': None, 'password': 'Password@2024', 'database': 'FDC_RETAIL_DATA', 'tables': 'LOAN', 'sub_type': 'SNOWFLAKE', 'subType': 'SNOWFLAKE', 'clientSecret': None, 'authenticationType': 'dbPassword', 'rowCount': 10, 'region': 'east-us-2', 'user': 'NILAYOSTWAL', 'applicationName': 'FOSFOR', 'passPhrase': None}}, 'url': 'http://connectors-backend-service/connectors/v1/connectors/metadata', 'access': True, 'errorMsg': None, 'values': {}}\n",
    "\n",
    "# Connect to Snowflake\n",
    "con = sw.connect(\n",
    "    # user='NILAYOSTWAL',\n",
    "    # password='Password@2024',\n",
    "    # account='wm40531',\n",
    "    # database='FDC_RETAIL_DATA',\n",
    "    # role='NILAYOSTWAL',\n",
    "    # cloudPlatform='azure',\n",
    "    # schema='FDC_SCHEMA',\n",
    "    # wareHouse='FOSFOR_QA_WH',\n",
    "    user=connection_details[\"params\"][\"READER\"][\"user\"],\n",
    "    password=connection_details[\"params\"][\"READER\"][\"password\"],\n",
    "    account=connection_details[\"params\"][\"READER\"][\"accountId\"],\n",
    "    database=connection_details[\"params\"][\"READER\"][\"database\"],\n",
    "    role=connection_details[\"params\"][\"READER\"][\"role\"],\n",
    "    cloudPlatform=connection_details[\"params\"][\"READER\"][\"cloudPlatform\"],\n",
    "    schema=connection_details[\"params\"][\"READER\"][\"schema\"],\n",
    "    wareHouse=connection_details[\"params\"][\"READER\"][\"wareHouse\"],\n",
    "    region=connection_details[\"params\"][\"READER\"][\"region\"] if connection_details[\"params\"][\"READER\"][\"cloudPlatform\"] is None \\\n",
    "            else connection_details[\"params\"][\"READER\"][\"region\"]+\".\"+connection_details[\"params\"][\"READER\"][\"cloudPlatform\"]\n",
    "    \n",
    ")\n",
    "# Create cursor\n",
    "cur = con.cursor()\n",
    "query = \"SELECT * FROM RETAIL_FINAL_TABLE LIMIT 1\"\n",
    "\n",
    "cur.execute(f\"use warehouse FOSFOR_QA_WH;\")  # Setting up warehouse, it is needed in new snowflake gcp connections.\n",
    "\n",
    "cur.execute(query)\n",
    "\n",
    "res = cur.fetchone()\n",
    "\n",
    "print(res)\n",
    "\n",
    "cur.close()\n",
    "con.close()"
   ]
  },
  {
   "cell_type": "code",
   "execution_count": null,
   "id": "22bd9b56",
   "metadata": {},
   "outputs": [],
   "source": []
  }
 ],
 "metadata": {
  "kernelspec": {
   "display_name": "Python 3",
   "language": "python",
   "name": "python3"
  },
  "language_info": {
   "codemirror_mode": {
    "name": "ipython",
    "version": 3
   },
   "file_extension": ".py",
   "mimetype": "text/x-python",
   "name": "python",
   "nbconvert_exporter": "python",
   "pygments_lexer": "ipython3",
   "version": "3.8.18"
  }
 },
 "nbformat": 4,
 "nbformat_minor": 5
}
